{
  "nbformat": 4,
  "nbformat_minor": 0,
  "metadata": {
    "colab": {
      "provenance": []
    },
    "kernelspec": {
      "name": "python3",
      "display_name": "Python 3"
    },
    "language_info": {
      "name": "python"
    }
  },
  "cells": [
    {
      "cell_type": "markdown",
      "source": [
        "Problem: Suppose the failure rate λ(lambda) of a battery is 0.02 failures per hour. What is the probability that the battery fails within the next 50 hours? Conversely, what is the probability that the battery will not fail within the next 50 hours?"
      ],
      "metadata": {
        "id": "-ZlbH8E3lxFB"
      }
    },
    {
      "cell_type": "code",
      "source": [
        "import numpy as np\n",
        "\n",
        "# Set required variables for calculation\n",
        "lmbd = 0.02\n",
        "x = 50\n",
        "e = np.e\n",
        "\n",
        "# Finds the probability of success using the exponential distribution formula\n",
        "cdf_expon = e ** (-lmbd * x)\n",
        "cdf_expon_percent = np.round(cdf_expon * 100, decimals=2)\n",
        "print(f\"The probability that the battery will survive after {x} hours is {cdf_expon_percent}%.\")\n",
        "\n",
        "# Finds the probability of failure using the probability of success\n",
        "final_probability = 100 - cdf_expon_percent\n",
        "print(f\"The probability that the battery will not survive after {x} hours is {final_probability}%.\")\n"
      ],
      "metadata": {
        "colab": {
          "base_uri": "https://localhost:8080/"
        },
        "id": "5U30A7eglzQj",
        "outputId": "2bfc6a8e-6276-42f6-c2e8-4eb6dd4fa176"
      },
      "execution_count": null,
      "outputs": [
        {
          "output_type": "stream",
          "name": "stdout",
          "text": [
            "The probability that the battery will survive after 50 hours is 36.79%.\n",
            "The probability that the battery will not survive after 50 hours is 63.21%.\n"
          ]
        }
      ]
    }
  ]
}